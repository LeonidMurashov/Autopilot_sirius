{
 "cells": [
  {
   "cell_type": "markdown",
   "metadata": {},
   "source": [
    "# The network of my dream\n",
    "### Была сделана по принципу \"пружинки\""
   ]
  },
  {
   "cell_type": "code",
   "execution_count": 47,
   "metadata": {
    "collapsed": false
   },
   "outputs": [],
   "source": [
    "from lasagne.nonlinearities import sigmoid, softmax\n",
    "from lasagne.updates import adam\n",
    "from lasagne.objectives import categorical_crossentropy\n",
    "from lasagne.layers import InputLayer , get_output, get_all_params\n",
    "from lasagne.layers import DenseLayer as Dense\n",
    "\n",
    "import theano\n",
    "import theano.tensor as T\n",
    "from sklearn.metrics import accuracy_score\n",
    "\n",
    "import numpy as np\n",
    "import pandas as pd\n",
    "\n",
    "from environment import Environment\n",
    "import os\n",
    "import pickle"
   ]
  },
  {
   "cell_type": "code",
   "execution_count": 69,
   "metadata": {
    "collapsed": true
   },
   "outputs": [],
   "source": [
    "inputX = T.matrix(dtype=\"float64\")\n",
    "inputY = T.vector(dtype='int64')\n",
    "buses = T.vector(dtype='float64')\n",
    "input_shape=[None, 56]\n",
    "learning_rate = 0.01"
   ]
  },
  {
   "cell_type": "code",
   "execution_count": 70,
   "metadata": {
    "collapsed": true
   },
   "outputs": [],
   "source": [
    "net = {}\n",
    "net[0] = InputLayer(shape=input_shape, input_var=inputX, name='input')\n",
    "net[1] = Dense(net[0], num_units=56, nonlinearity=sigmoid, name='hidden_1')\n",
    "net[2] = Dense(net[1], num_units=28, nonlinearity=sigmoid, name='hidden_2')\n",
    "net[3] = Dense(net[2], num_units=3, nonlinearity=softmax, name='output')"
   ]
  },
  {
   "cell_type": "code",
   "execution_count": 71,
   "metadata": {
    "collapsed": true
   },
   "outputs": [],
   "source": [
    "predict = get_output(net[3])\n",
    "weights = get_all_params(net[3])"
   ]
  },
  {
   "cell_type": "code",
   "execution_count": 72,
   "metadata": {
    "collapsed": false
   },
   "outputs": [
    {
     "name": "stdout",
     "output_type": "stream",
     "text": [
      "KPI: [4, 8]\n",
      "KPI: [1670, 17]\n",
      "KPI: [1190, 12]\n"
     ]
    }
   ],
   "source": [
    "env = Environment(False)\n",
    "state = env.reset()\n",
    "env.do_step()"
   ]
  },
  {
   "cell_type": "code",
   "execution_count": 73,
   "metadata": {
    "collapsed": true
   },
   "outputs": [],
   "source": [
    "loss = categorical_crossentropy(predict, inputY).mean()\n",
    "updates = adam(loss, weights, learning_rate=0.01)"
   ]
  },
  {
   "cell_type": "code",
   "execution_count": 74,
   "metadata": {
    "collapsed": true
   },
   "outputs": [],
   "source": [
    "train_fun = theano.function([inputX, inputY], [loss], updates = updates)"
   ]
  },
  {
   "cell_type": "code",
   "execution_count": 76,
   "metadata": {
    "collapsed": true
   },
   "outputs": [],
   "source": [
    "def iterate_minibatches(num):\n",
    "    with open('data/data-{0}.pkl'.format(num), 'rb') as f:\n",
    "        data = pickle.load(f)\n",
    "    return data"
   ]
  },
  {
   "cell_type": "code",
   "execution_count": 77,
   "metadata": {
    "collapsed": false
   },
   "outputs": [
    {
     "name": "stdout",
     "output_type": "stream",
     "text": [
      "wait...\n",
      "Here we go!\n",
      "wait...\n",
      "Here we go!\n",
      "wait...\n",
      "Here we go!\n",
      "wait...\n",
      "Here we go!\n",
      "wait...\n",
      "Here we go!\n",
      "wait...\n",
      "Here we go!\n",
      "wait...\n",
      "Here we go!\n",
      "wait...\n",
      "Here we go!\n",
      "wait...\n",
      "Here we go!\n",
      "wait...\n",
      "Here we go!\n",
      "wait...\n",
      "Here we go!\n",
      "wait...\n",
      "Here we go!\n",
      "wait...\n",
      "Here we go!\n",
      "wait...\n",
      "Here we go!\n",
      "wait...\n",
      "Here we go!\n",
      "wait...\n",
      "Here we go!\n",
      "wait...\n",
      "Here we go!\n",
      "wait...\n",
      "Here we go!\n",
      "wait...\n",
      "Here we go!\n",
      "Epoch 1 of 100 took 2.659s\n",
      "wait...\n",
      "Here we go!\n",
      "wait...\n",
      "Here we go!\n"
     ]
    },
    {
     "ename": "EOFError",
     "evalue": "Ran out of input",
     "output_type": "error",
     "traceback": [
      "\u001b[0;31m---------------------------------------------------------------------------\u001b[0m",
      "\u001b[0;31mEOFError\u001b[0m                                  Traceback (most recent call last)",
      "\u001b[0;32m<ipython-input-77-d08d9d664b12>\u001b[0m in \u001b[0;36m<module>\u001b[0;34m()\u001b[0m\n\u001b[1;32m      6\u001b[0m     \u001b[0mstart_time\u001b[0m \u001b[1;33m=\u001b[0m \u001b[0mtime\u001b[0m\u001b[1;33m.\u001b[0m\u001b[0mtime\u001b[0m\u001b[1;33m(\u001b[0m\u001b[1;33m)\u001b[0m\u001b[1;33m\u001b[0m\u001b[0m\n\u001b[1;32m      7\u001b[0m     \u001b[1;32mfor\u001b[0m \u001b[0mi\u001b[0m \u001b[1;32min\u001b[0m \u001b[0mrange\u001b[0m\u001b[1;33m(\u001b[0m\u001b[1;36m1\u001b[0m\u001b[1;33m,\u001b[0m \u001b[1;36m20\u001b[0m\u001b[1;33m)\u001b[0m\u001b[1;33m:\u001b[0m\u001b[1;33m\u001b[0m\u001b[0m\n\u001b[0;32m----> 8\u001b[0;31m         \u001b[0mdata\u001b[0m \u001b[1;33m=\u001b[0m \u001b[0miterate_minibatches\u001b[0m\u001b[1;33m(\u001b[0m\u001b[0mi\u001b[0m\u001b[1;33m)\u001b[0m\u001b[1;33m\u001b[0m\u001b[0m\n\u001b[0m\u001b[1;32m      9\u001b[0m         \u001b[0mdf\u001b[0m \u001b[1;33m=\u001b[0m \u001b[0mpd\u001b[0m\u001b[1;33m.\u001b[0m\u001b[0mDataFrame\u001b[0m\u001b[1;33m(\u001b[0m\u001b[0mdata\u001b[0m\u001b[1;33m)\u001b[0m\u001b[1;33m\u001b[0m\u001b[0m\n\u001b[1;32m     10\u001b[0m         \u001b[0mX\u001b[0m \u001b[1;33m=\u001b[0m \u001b[0mlist\u001b[0m\u001b[1;33m(\u001b[0m\u001b[0mdf\u001b[0m\u001b[1;33m[\u001b[0m\u001b[1;36m0\u001b[0m\u001b[1;33m]\u001b[0m\u001b[1;33m)\u001b[0m\u001b[1;33m\u001b[0m\u001b[0m\n",
      "\u001b[0;32m<ipython-input-76-7b7797a16686>\u001b[0m in \u001b[0;36miterate_minibatches\u001b[0;34m(num)\u001b[0m\n\u001b[1;32m      1\u001b[0m \u001b[1;32mdef\u001b[0m \u001b[0miterate_minibatches\u001b[0m\u001b[1;33m(\u001b[0m\u001b[0mnum\u001b[0m\u001b[1;33m)\u001b[0m\u001b[1;33m:\u001b[0m\u001b[1;33m\u001b[0m\u001b[0m\n\u001b[1;32m      2\u001b[0m     \u001b[1;32mwith\u001b[0m \u001b[0mopen\u001b[0m\u001b[1;33m(\u001b[0m\u001b[1;34m'data/data-{0}.pkl'\u001b[0m\u001b[1;33m.\u001b[0m\u001b[0mformat\u001b[0m\u001b[1;33m(\u001b[0m\u001b[0mnum\u001b[0m\u001b[1;33m)\u001b[0m\u001b[1;33m,\u001b[0m \u001b[1;34m'rb'\u001b[0m\u001b[1;33m)\u001b[0m \u001b[1;32mas\u001b[0m \u001b[0mf\u001b[0m\u001b[1;33m:\u001b[0m\u001b[1;33m\u001b[0m\u001b[0m\n\u001b[0;32m----> 3\u001b[0;31m         \u001b[0mdata\u001b[0m \u001b[1;33m=\u001b[0m \u001b[0mpickle\u001b[0m\u001b[1;33m.\u001b[0m\u001b[0mload\u001b[0m\u001b[1;33m(\u001b[0m\u001b[0mf\u001b[0m\u001b[1;33m)\u001b[0m\u001b[1;33m\u001b[0m\u001b[0m\n\u001b[0m\u001b[1;32m      4\u001b[0m     \u001b[1;32mreturn\u001b[0m \u001b[0mdata\u001b[0m\u001b[1;33m\u001b[0m\u001b[0m\n",
      "\u001b[0;31mEOFError\u001b[0m: Ran out of input"
     ]
    }
   ],
   "source": [
    "import time\n",
    "\n",
    "num_epochs = 100 #количество проходов по данным\n",
    "\n",
    "for epoch in range(num_epochs):\n",
    "    start_time = time.time()\n",
    "    for i in range(1, 20):\n",
    "        data = iterate_minibatches(i)\n",
    "        df = pd.DataFrame(data)\n",
    "        X = list(df[0])\n",
    "        y = list(df[1])\n",
    "        print(\"wait...\")\n",
    "        train_fun(X, y)\n",
    "        print('Here we go!')\n",
    "\n",
    "    # Then we print the results for this epoch:\n",
    "    print(\"Epoch {} of {} took {:.3f}s\".format(\n",
    "    epoch + 1, num_epochs, time.time() - start_time))\n",
    "\n",
    "#     print(\" training loss (in-iteration):\\t\\t{:.6f}\".format(train_err / train_batches))\n",
    "#     print(\" train accuracy:\\t\\t{:.2f} %\".format(\n",
    "#     train_acc / train_batches * 100))\n",
    "#     print(\" validation accuracy:\\t\\t{:.2f} %\".format(\n",
    "#     val_acc / val_batches * 100))"
   ]
  },
  {
   "cell_type": "code",
   "execution_count": null,
   "metadata": {
    "collapsed": true
   },
   "outputs": [],
   "source": []
  }
 ],
 "metadata": {
  "anaconda-cloud": {},
  "kernelspec": {
   "display_name": "Python [default]",
   "language": "python",
   "name": "python3"
  },
  "language_info": {
   "codemirror_mode": {
    "name": "ipython",
    "version": 3
   },
   "file_extension": ".py",
   "mimetype": "text/x-python",
   "name": "python",
   "nbconvert_exporter": "python",
   "pygments_lexer": "ipython3",
   "version": "3.5.2"
  }
 },
 "nbformat": 4,
 "nbformat_minor": 1
}
